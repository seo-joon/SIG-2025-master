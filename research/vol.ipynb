{
 "cells": [
  {
   "cell_type": "markdown",
   "id": "cf676e9a",
   "metadata": {},
   "source": [
    "vol clustering"
   ]
  },
  {
   "cell_type": "code",
   "execution_count": 2,
   "id": "493dd979",
   "metadata": {},
   "outputs": [],
   "source": [
    "import numpy as np\n",
    "import pandas as pd\n",
    "import matplotlib.pyplot as plt\n",
    "from statsmodels.tsa.stattools import adfuller\n",
    "import seaborn as sns\n",
    "\n",
    "prices = np.loadtxt(\"prices.txt\")\n",
    "prices = prices.T"
   ]
  },
  {
   "cell_type": "code",
   "execution_count": 3,
   "id": "a74cffc7",
   "metadata": {},
   "outputs": [
    {
     "name": "stdout",
     "output_type": "stream",
     "text": [
      "No instruments exhibit significant volatility clustering based on the ACF threshold.\n"
     ]
    }
   ],
   "source": [
    "log_returns = np.log(prices[:, 1:] / prices[:, :-1])\n",
    "squared_returns = log_returns ** 2\n",
    "\n",
    "from statsmodels.tsa.stattools import acf\n",
    "\n",
    "volatility_clustered = []\n",
    "\n",
    "for i, sq_ret in enumerate(squared_returns):\n",
    "    acf_vals = acf(sq_ret, nlags=10, fft=True)\n",
    "    if np.any(acf_vals[1:] > 0.3):\n",
    "        volatility_clustered.append({\n",
    "            'Instrument': i,\n",
    "            'ACF Lag 1': acf_vals[1],\n",
    "            'ACF Lag 2': acf_vals[2],\n",
    "            'ACF Lag 3': acf_vals[3]\n",
    "        })\n",
    "\n",
    "vol_cluster_df = pd.DataFrame(volatility_clustered)\n",
    "if not vol_cluster_df.empty:\n",
    "    print(vol_cluster_df.sort_values(by='ACF Lag 1', ascending=False))\n",
    "else:\n",
    "    print(\"No instruments exhibit significant volatility clustering based on the ACF threshold.\")\n"
   ]
  },
  {
   "cell_type": "code",
   "execution_count": 4,
   "id": "370ea02b",
   "metadata": {},
   "outputs": [
    {
     "name": "stdout",
     "output_type": "stream",
     "text": [
      "No instruments exhibit significant volatility clustering above the relaxed 0.2 threshold.\n"
     ]
    }
   ],
   "source": [
    "log_returns = np.log(prices[:, 1:] / prices[:, :-1])\n",
    "squared_returns = log_returns ** 2\n",
    "\n",
    "volatility_clustered = []\n",
    "\n",
    "for i, sq_ret in enumerate(squared_returns):\n",
    "    acf_vals = acf(sq_ret, nlags=10, fft=True)\n",
    "    if np.any(acf_vals[1:] > 0.2):\n",
    "        volatility_clustered.append({\n",
    "            'Instrument': i,\n",
    "            'ACF Lag 1': acf_vals[1],\n",
    "            'ACF Lag 2': acf_vals[2],\n",
    "            'ACF Lag 3': acf_vals[3]\n",
    "        })\n",
    "\n",
    "vol_cluster_df = pd.DataFrame(volatility_clustered)\n",
    "\n",
    "if not vol_cluster_df.empty:\n",
    "    print(vol_cluster_df.sort_values(by='ACF Lag 1', ascending=False))\n",
    "else:\n",
    "    print(\"No instruments exhibit significant volatility clustering above the relaxed 0.2 threshold.\")\n"
   ]
  },
  {
   "cell_type": "code",
   "execution_count": 5,
   "id": "0afda241",
   "metadata": {},
   "outputs": [
    {
     "name": "stdout",
     "output_type": "stream",
     "text": [
      "Empty DataFrame\n",
      "Columns: [Instrument, alpha[1], beta[1], p(alpha), p(beta), Significant]\n",
      "Index: []\n"
     ]
    }
   ],
   "source": [
    "from arch import arch_model\n",
    "\n",
    "garch_results = []\n",
    "\n",
    "for i, y in enumerate(log_returns):\n",
    "    model = arch_model(y * 100, vol='GARCH', p=1, q=1, dist='normal')\n",
    "    try:\n",
    "        res = model.fit(disp='off')\n",
    "        pval_alpha = res.pvalues['alpha[1]']\n",
    "        pval_beta = res.pvalues['beta[1]']\n",
    "        sig = (pval_alpha < 0.05) and (pval_beta < 0.05)\n",
    "        garch_results.append({\n",
    "            'Instrument': i,\n",
    "            'alpha[1]': res.params['alpha[1]'],\n",
    "            'beta[1]': res.params['beta[1]'],\n",
    "            'p(alpha)': pval_alpha,\n",
    "            'p(beta)': pval_beta,\n",
    "            'Significant': sig\n",
    "        })\n",
    "    except:\n",
    "        continue\n",
    "\n",
    "garch_df = pd.DataFrame(garch_results)\n",
    "significant_garch = garch_df[garch_df['Significant']]\n",
    "\n",
    "print(significant_garch.sort_values(by='p(alpha)'))\n"
   ]
  },
  {
   "cell_type": "code",
   "execution_count": null,
   "id": "8b4c1412",
   "metadata": {},
   "outputs": [],
   "source": []
  }
 ],
 "metadata": {
  "kernelspec": {
   "display_name": "Python 3",
   "language": "python",
   "name": "python3"
  },
  "language_info": {
   "codemirror_mode": {
    "name": "ipython",
    "version": 3
   },
   "file_extension": ".py",
   "mimetype": "text/x-python",
   "name": "python",
   "nbconvert_exporter": "python",
   "pygments_lexer": "ipython3",
   "version": "3.11.1"
  }
 },
 "nbformat": 4,
 "nbformat_minor": 5
}
